{
 "cells": [
  {
   "cell_type": "markdown",
   "id": "3f33b2ca",
   "metadata": {},
   "source": [
    "<h1>Erik Riswanto Saputra</h1>\n",
    "<h1>20220040226</h1>\n",
    "<h1>TI 22 H</h1>\n",
    "<hr bold>"
   ]
  },
  {
   "cell_type": "markdown",
   "id": "65bdc3d9",
   "metadata": {},
   "source": [
    "<h1>Jawaban No 1<h1/>\n"
   ]
  },
  {
   "cell_type": "code",
   "execution_count": 1,
   "id": "13a5f549",
   "metadata": {},
   "outputs": [
    {
     "name": "stdout",
     "output_type": "stream",
     "text": [
      "masukan hobi kamu: makan\n",
      "Hobi anda ada: makan\n"
     ]
    }
   ],
   "source": [
    "hobi = input(\"masukan hobi kamu: \")\n",
    "print (f\"Hobi anda ada: {hobi}\")"
   ]
  },
  {
   "cell_type": "markdown",
   "id": "97736d62",
   "metadata": {},
   "source": [
    "<h1>Jawaban No 2<h1/>"
   ]
  },
  {
   "cell_type": "code",
   "execution_count": 3,
   "id": "c23ee452",
   "metadata": {},
   "outputs": [
    {
     "name": "stdout",
     "output_type": "stream",
     "text": [
      "masukan nama anda: Erik  Riswanto Saputra\n",
      "Huruf Awal Nama Anda: E\n"
     ]
    }
   ],
   "source": [
    "nama = input(\"masukan nama anda: \").upper()\n",
    "print(f\"Huruf Awal Nama Anda: {nama[0]}\")"
   ]
  },
  {
   "cell_type": "markdown",
   "id": "8ba12054",
   "metadata": {},
   "source": [
    "<h1>Latihan</h1>\n",
    "<p>1. buatlah program tebak hasil dari perkalian dari 2 angka 0 sampai  100 jika user menjawab benar maka tampil kan true jika jawaban salah dengan nilai false</p>"
   ]
  },
  {
   "cell_type": "code",
   "execution_count": 5,
   "id": "8ca31749",
   "metadata": {},
   "outputs": [
    {
     "name": "stdout",
     "output_type": "stream",
     "text": [
      "berapakah perkalian 53 dan 0 : 0\n",
      "Jawaban Kamu True\n"
     ]
    }
   ],
   "source": [
    "from random import randint\n",
    "x = randint (0,100)\n",
    "y = randint (0,100)\n",
    "hasil = int(input(f\"berapakah perkalian {x} dan {y} : \"))\n",
    "print (f\"Jawaban Kamu {hasil==x * y}\")"
   ]
  },
  {
   "cell_type": "markdown",
   "id": "64c9f34e",
   "metadata": {},
   "source": [
    "<h1>Latihan</h1>\n",
    "<p>Carilah CLDR Names dan unicode dari emoji dan cetaklah mengunakan fungsi print</p>"
   ]
  },
  {
   "cell_type": "code",
   "execution_count": 9,
   "id": "7892717d",
   "metadata": {},
   "outputs": [
    {
     "name": "stdout",
     "output_type": "stream",
     "text": [
      "Names: Panik\n",
      "UNICODE: U0001F631\n",
      "😱\n"
     ]
    }
   ],
   "source": [
    "print(\"Names: Panik\")\n",
    "print(\"UNICODE: U0001F631\")\n",
    "print(\"\\U0001F631\")"
   ]
  },
  {
   "cell_type": "markdown",
   "id": "01945790",
   "metadata": {},
   "source": [
    "<h1>latihan</h1>\n",
    "<p>jika terdapat sebuah string Belajar Pemrograman Python maka tampilkan output berikut ini mengunakan fungsi print</p>\n",
    "<ol>\n",
    "    <li>Belajar</li>\n",
    "    <li>ajar</li>\n",
    "    <li>Pemrograman</li>\n",
    "    <li>gram</li>\n",
    "    <li>python</li>\n",
    "    <li>py</li>\n",
    "    <li>gram python</li>\n",
    "    <li>pemrograman py</li>"
   ]
  },
  {
   "cell_type": "code",
   "execution_count": 36,
   "id": "482db3bf",
   "metadata": {},
   "outputs": [
    {
     "name": "stdout",
     "output_type": "stream",
     "text": [
      "1. Belajar\n",
      "2. ajar\n",
      "3. Pemrograman\n",
      "4. gram\n",
      "5. Python\n",
      "6. Py\n",
      "7. gram Python\n",
      "8. Pemrograman Py\n"
     ]
    }
   ],
   "source": [
    "kalimat = \"Belajar Pemrograman Python\"\n",
    "print (f\"1. {kalimat[0:7]}\")\n",
    "print (f\"2. {kalimat[3:7]}\")\n",
    "print (f\"3. {kalimat[8:19]}\")\n",
    "print (f\"4. {kalimat[13:17]}\")\n",
    "print (f\"5. {kalimat[20:26]}\")\n",
    "print (f\"6. {kalimat[20:22]}\")\n",
    "print (f\"7. {kalimat[13:17]} {kalimat[20:26]}\")\n",
    "print (f\"8. {kalimat[8:19]} {kalimat[20:22]}\")"
   ]
  },
  {
   "cell_type": "markdown",
   "id": "6c82679a",
   "metadata": {},
   "source": [
    "<h1>Buatlah eleminasi email dengan nilai true jika benar dan false jika salah</h1>\n",
    "<ul>\n",
    "    <li>erikriswantosaputra@gmail.com : True</li>\n",
    "<li>erikriswanto.saputra@gmail.com : False</li>\n",
    "<li>erikriswantosaputra@gmailcom : False</li>\n",
    "<li>erik riswanto  saputra@gmail.com : False</li>\n",
    "    </ul>\n",
    "    <hr>"
   ]
  },
  {
   "cell_type": "code",
   "execution_count": 35,
   "id": "ad3386a3",
   "metadata": {},
   "outputs": [
    {
     "name": "stdout",
     "output_type": "stream",
     "text": [
      "erikriswantosaputra@gmail.com\n",
      "True\n"
     ]
    }
   ],
   "source": [
    "import re\n",
    "\n",
    "def email (cek_email):\n",
    "    syarat  = \"^[a-zA-Z0-9-_]+@[a-zA-Z0-9]+\\.[a-z]{1,3}$\"\n",
    "    if re.match(syarat,cek_email):\n",
    "        return True\n",
    "    return False\n",
    "\n",
    "cek_email = input()\n",
    "print(email(cek_email))"
   ]
  }
 ],
 "metadata": {
  "kernelspec": {
   "display_name": "Python 3 (ipykernel)",
   "language": "python",
   "name": "python3"
  },
  "language_info": {
   "codemirror_mode": {
    "name": "ipython",
    "version": 3
   },
   "file_extension": ".py",
   "mimetype": "text/x-python",
   "name": "python",
   "nbconvert_exporter": "python",
   "pygments_lexer": "ipython3",
   "version": "3.9.13"
  }
 },
 "nbformat": 4,
 "nbformat_minor": 5
}
